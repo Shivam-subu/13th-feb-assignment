{
 "cells": [
  {
   "cell_type": "markdown",
   "id": "42ca21f0-cb69-44de-b0cd-2c11d6695e7d",
   "metadata": {},
   "source": [
    "\n",
    "Note: Here Exception class refers to the base class for all the exceptions.\n",
    "Q2. Write a python program to print Python Exception Hierarchy.\n",
    "\n",
    "\n",
    "Q6. List down some best practices for exception handling in python."
   ]
  },
  {
   "cell_type": "markdown",
   "id": "db6c4085-650e-4722-837b-9a0c0adff6bc",
   "metadata": {},
   "source": [
    "Q1. Explain why we have to use the Exception class while creating a Custom Exception.\n",
    "Ans.\n",
    "In Python, it is advisable to use the `Exception` class as the base class when creating custom exceptions. Here's why:\n",
    "\n",
    "1. Consistency and Convention: By using the `Exception` class as the base class for custom exceptions, you adhere to the standard convention followed by Python developers. It helps maintain consistency in codebases and makes it easier for others to understand and work with your code.\n",
    "\n",
    "2. Catching and Handling: Using the `Exception` class as the base allows you to catch and handle your custom exception in a generalized way. When you catch an exception, you can use the `except` statement without explicitly specifying the exact exception type, which makes your code more flexible and easier to maintain.\n",
    "\n",
    "3. Customized Behavior: Deriving from the `Exception` class provides you with the flexibility to customize the behavior of your custom exception. You can add additional attributes, methods, or properties to your custom exception class, tailored to the specific needs of your application. This allows you to provide more meaningful information when an exception occurs.\n",
    "\n",
    "4. Compatibility with Exception Hierarchy: Python has a built-in hierarchy of exception classes, where more specific exception types are derived from the `Exception` class. By using `Exception` as the base, your custom exception becomes compatible with this hierarchy. This enables you to catch your custom exception along with other related exceptions, facilitating better error handling and debugging.\n",
    "\n",
    "Here's an example of creating a custom exception class derived from the `Exception` class in Python:\n",
    "\n",
    "```python\n",
    "class CustomException(Exception):\n",
    "    def __init__(self, message):\n",
    "        self.message = message\n",
    "\n",
    "    def __str__(self):\n",
    "        return self.message\n",
    "```\n",
    "\n",
    "By inheriting from the `Exception` class, your custom exception inherits all the essential properties and behaviors of the base class, making it easier to use and integrate with the existing exception handling mechanisms in Python."
   ]
  },
  {
   "cell_type": "markdown",
   "id": "1128ddf4-248d-4549-a759-59e1f975c5f1",
   "metadata": {},
   "source": [
    "Q2. Write a python program to print Python Exception Hierarchy.\n",
    "Ans."
   ]
  },
  {
   "cell_type": "code",
   "execution_count": null,
   "id": "183facb2-4937-410e-86bd-e0f709c27b87",
   "metadata": {},
   "outputs": [],
   "source": [
    "def print_exception_hierarchy(exception_class, indent=0):\n",
    "    print(' ' * indent + str(exception_class))\n",
    "    for subclass in exception_class.__subclasses__():\n",
    "        print_exception_hierarchy(subclass, indent + 4)\n",
    "\n",
    "# Print the Exception Hierarchy\n",
    "print_exception_hierarchy(BaseException)"
   ]
  },
  {
   "cell_type": "markdown",
   "id": "fbde4836-52b5-4ac8-b16d-d65a677b4c14",
   "metadata": {},
   "source": [
    "Q3. What errors are defined in the ArithmeticError class? Explain any two with an example."
   ]
  },
  {
   "cell_type": "markdown",
   "id": "282b5cee-487e-42b6-8d6c-cde8f3bc27c8",
   "metadata": {},
   "source": [
    "Ans.\n",
    "\n",
    "The `ArithmeticError` class in Python is the base class for exceptions related to arithmetic operations. It encompasses various specific errors that can occur during arithmetic calculations. Here are two commonly encountered errors defined in the `ArithmeticError` class:\n",
    "\n",
    "1. `ZeroDivisionError`: This exception is raised when an attempt is made to divide a number by zero. It occurs when the denominator in a division operation evaluates to zero. Here's an example:\n",
    "\n",
    "```python\n",
    "try:\n",
    "    result = 10 / 0\n",
    "except ZeroDivisionError:\n",
    "    print(\"Error: Division by zero!\")\n",
    "```\n",
    "\n",
    "In this example, dividing 10 by 0 raises a `ZeroDivisionError`. The program catches the exception using a `try-except` block and prints an appropriate error message.\n",
    "\n",
    "2. `OverflowError`: This exception occurs when a mathematical operation exceeds the maximum limit or range that can be represented by a numeric data type. It typically occurs in situations where the result of an arithmetic operation is too large or too small to be handled by the data type. Here's an example:\n",
    "\n",
    "```python\n",
    "try:\n",
    "    result = 10 ** 1000\n",
    "except OverflowError:\n",
    "    print(\"Error: Result too large to handle!\")\n",
    "```\n",
    "\n",
    "In this example, we attempt to calculate 10 raised to the power of 1000, resulting in an extremely large number that exceeds the maximum limit for the data type. This triggers an `OverflowError`, which is caught by the `try-except` block, and an appropriate error message is printed.\n",
    "\n",
    "Both `ZeroDivisionError` and `OverflowError` are subclasses of `ArithmeticError`, which is the base class for arithmetic-related exceptions. By catching these specific exceptions, you can handle arithmetic errors more precisely and provide informative feedback to the users of your program."
   ]
  },
  {
   "cell_type": "markdown",
   "id": "6b08dda9-f9b7-4a05-a2a4-4636d6631cc5",
   "metadata": {},
   "source": [
    "Q4. Why LookupError class is used? Explain with an example KeyError and IndexError.\n",
    "Ans.\n",
    "\n",
    "The `LookupError` class in Python is the base class for exceptions that occur when a lookup or indexing operation fails. It provides a common base for specific lookup-related exceptions, such as `KeyError` and `IndexError`. Here's an explanation of these two exceptions:\n",
    "\n",
    "1. `KeyError`: This exception is raised when a dictionary key or a set element is not found during a lookup. It occurs when you try to access a non-existent key in a dictionary or retrieve a non-existent element from a set. Here's an example:\n",
    "\n",
    "```python\n",
    "my_dict = {'a': 1, 'b': 2, 'c': 3}\n",
    "\n",
    "try:\n",
    "    value = my_dict['d']\n",
    "except KeyError:\n",
    "    print(\"Error: Key not found in dictionary!\")\n",
    "```\n",
    "\n",
    "In this example, we try to access the key `'d'` in the dictionary `my_dict`, which doesn't exist. As a result, a `KeyError` is raised, and the program catches the exception using a `try-except` block, printing an appropriate error message.\n",
    "\n",
    "2. `IndexError`: This exception is raised when a sequence index is out of range. It occurs when you try to access an element in a sequence (such as a list or a string) using an index that is outside the valid range of indices. Here's an example:\n",
    "\n",
    "```python\n",
    "my_list = [1, 2, 3]\n",
    "\n",
    "try:\n",
    "    value = my_list[3]\n",
    "except IndexError:\n",
    "    print(\"Error: Index out of range!\")\n",
    "```\n",
    "\n",
    "In this example, we attempt to access the element at index `3` in the list `my_list`, which is beyond the valid range of indices (the list has indices `0`, `1`, and `2`). As a result, an `IndexError` is raised, and the program catches the exception, printing an appropriate error message.\n",
    "\n",
    "Both `KeyError` and `IndexError` are subclasses of `LookupError`, which is the base class for exceptions related to lookup operations. By catching these specific exceptions, you can handle lookup failures and index errors gracefully, providing better error handling and user feedback in your programs."
   ]
  },
  {
   "cell_type": "markdown",
   "id": "ac7e397d-dab5-41e9-845f-f77049d8668a",
   "metadata": {},
   "source": [
    "Q5. Explain ImportError. What is ModuleNotFoundError?\n",
    "\n",
    "Ans. In Python, `ImportError` and `ModuleNotFoundError` are exceptions that occur when importing modules or packages encounters an error. Here's an explanation of each:\n",
    "\n",
    "1. `ImportError`: This exception is raised when an import statement fails to find or load a module or when there is an issue with the imported module. It can occur due to various reasons, such as a missing or incorrect module name, a circular import dependency, or a problem with the module's code. Here's an example:\n",
    "\n",
    "```python\n",
    "try:\n",
    "    import non_existent_module\n",
    "except ImportError:\n",
    "    print(\"Error: Module import failed!\")\n",
    "```\n",
    "\n",
    "In this example, the program attempts to import a non-existent module named `non_existent_module`. Since the module doesn't exist, an `ImportError` is raised, and the program catches the exception, printing an appropriate error message.\n",
    "\n",
    "2. `ModuleNotFoundError`: This exception is a subclass of `ImportError` and was introduced in Python 3.6. It specifically indicates that the requested module could not be found or does not exist. It provides a more specific error message for cases where the module itself is not found. Here's an example:\n",
    "\n",
    "```python\n",
    "try:\n",
    "    import non_existent_module\n",
    "except ModuleNotFoundError:\n",
    "    print(\"Error: Module not found!\")\n",
    "```\n",
    "\n",
    "In this example, the program attempts to import the non-existent module `non_existent_module`. Since the module cannot be found, a `ModuleNotFoundError` (which is a subclass of `ImportError`) is raised, and the program catches the exception, printing an appropriate error message.\n",
    "\n",
    "Both `ImportError` and `ModuleNotFoundError` allow you to handle import errors in a controlled manner. You can catch these exceptions to handle cases where a required module or package is missing, ensuring that your program gracefully handles the absence of the necessary dependencies."
   ]
  },
  {
   "cell_type": "code",
   "execution_count": null,
   "id": "57805eac-a89d-4190-a327-7e45681eb229",
   "metadata": {},
   "outputs": [],
   "source": []
  },
  {
   "cell_type": "code",
   "execution_count": null,
   "id": "e490ac14-7c8a-4ca4-85a6-f96d62fb8a42",
   "metadata": {},
   "outputs": [],
   "source": []
  }
 ],
 "metadata": {
  "kernelspec": {
   "display_name": "Python 3 (ipykernel)",
   "language": "python",
   "name": "python3"
  },
  "language_info": {
   "codemirror_mode": {
    "name": "ipython",
    "version": 3
   },
   "file_extension": ".py",
   "mimetype": "text/x-python",
   "name": "python",
   "nbconvert_exporter": "python",
   "pygments_lexer": "ipython3",
   "version": "3.10.8"
  }
 },
 "nbformat": 4,
 "nbformat_minor": 5
}
